{
 "cells": [
  {
   "cell_type": "code",
   "execution_count": 1,
   "metadata": {},
   "outputs": [],
   "source": [
    "import numpy as np\n",
    "import pandas as pd\n",
    "\n",
    "import seaborn as sns\n",
    "from sklearn.linear_model import LinearRegression"
   ]
  },
  {
   "cell_type": "code",
   "execution_count": 2,
   "metadata": {},
   "outputs": [],
   "source": [
    "masterData = pd.DataFrame(columns=[\"timeRaw\", \"dutyCycleRaw\", \"encoderRaw\"])\n",
    "\n",
    "with open(\"speedTest3.txt\") as f:\n",
    "    for i, line in enumerate(f):\n",
    "        vs = line.split(\",\")\n",
    "        vs = [x.split(\"=\")[1] for x in vs]\n",
    "\n",
    "        vs = [float(x) for x in vs]\n",
    "\n",
    "        time, duty, encoder = vs\n",
    "\n",
    "        masterData.loc[i] = [time, duty, encoder]"
   ]
  },
  {
   "cell_type": "code",
   "execution_count": 3,
   "metadata": {},
   "outputs": [],
   "source": [
    "masterData[\"Time\"] = masterData[\"timeRaw\"] / 1000 # ms => s\n",
    "masterData[\"Duty Cycle\"] = masterData[\"dutyCycleRaw\"] / 255 * 100 # 0-255 => 0-100%\n",
    "masterData[\"Encoder\"] = masterData[\"encoderRaw\"] / 12 / 298 * 360 # counts => deg"
   ]
  },
  {
   "cell_type": "code",
   "execution_count": 5,
   "metadata": {},
   "outputs": [],
   "source": [
    "a = sns.lineplot(data=masterData, x=\"Time\", y=\"Duty Cycle\", dashes=(2, 2))\n",
    "sns.lineplot(data=masterData, x=\"Time\", y=\"Encoder\", ax=a.axes.twinx())"
   ]
  }
 ],
 "metadata": {
  "kernelspec": {
   "display_name": "Python 3.10.4 ('base')",
   "language": "python",
   "name": "python3"
  },
  "language_info": {
   "codemirror_mode": {
    "name": "ipython",
    "version": 3
   },
   "file_extension": ".py",
   "mimetype": "text/x-python",
   "name": "python",
   "nbconvert_exporter": "python",
   "pygments_lexer": "ipython3",
   "version": "3.10.4"
  },
  "orig_nbformat": 4,
  "vscode": {
   "interpreter": {
    "hash": "857556dc845055b41beb606dbbd73edf23f54c935d6d4451448ad6c71f567b45"
   }
  }
 },
 "nbformat": 4,
 "nbformat_minor": 2
}
